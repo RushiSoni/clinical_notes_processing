{
 "cells": [
  {
   "cell_type": "code",
   "execution_count": 1,
   "metadata": {
    "ExecuteTime": {
     "end_time": "2022-01-20T10:11:03.484842Z",
     "start_time": "2022-01-20T10:11:02.148837Z"
    }
   },
   "outputs": [],
   "source": [
    "import pandas as pd\n",
    "import numpy as np\n",
    "import os\n",
    "os.chdir(r'../data')\n",
    "from tqdm import tqdm\n",
    "tqdm.pandas()\n",
    "import warnings\n",
    "warnings.filterwarnings('ignore')\n",
    "def function_that_warns():\n",
    "    warnings.warn(\"deprecated\", DeprecationWarning)\n",
    "\n",
    "with warnings.catch_warnings():\n",
    "    warnings.simplefilter(\"ignore\")\n",
    "    function_that_warns()  # this will not show a warning"
   ]
  },
  {
   "cell_type": "code",
   "execution_count": 2,
   "metadata": {
    "ExecuteTime": {
     "end_time": "2022-01-20T10:11:24.484504Z",
     "start_time": "2022-01-20T10:11:03.488837Z"
    },
    "scrolled": false
   },
   "outputs": [],
   "source": [
    "import spacy\n",
    "nlp_trf = spacy.load('en_core_web_trf')"
   ]
  },
  {
   "cell_type": "code",
   "execution_count": 3,
   "metadata": {
    "ExecuteTime": {
     "end_time": "2022-01-20T10:11:24.515505Z",
     "start_time": "2022-01-20T10:11:24.488504Z"
    }
   },
   "outputs": [
    {
     "name": "stdout",
     "output_type": "stream",
     "text": [
      "Index(['category', 'notes', 'disease', 'chemical'], dtype='object') (100, 4)\n"
     ]
    }
   ],
   "source": [
    "ClinNotes_df = pd.read_pickle('ClinNotes_entity_df')\n",
    "print(ClinNotes_df.columns, ClinNotes_df.shape)"
   ]
  },
  {
   "cell_type": "code",
   "execution_count": 4,
   "metadata": {
    "ExecuteTime": {
     "end_time": "2022-01-20T10:11:24.593506Z",
     "start_time": "2022-01-20T10:11:24.519506Z"
    }
   },
   "outputs": [],
   "source": [
    "# def get_disease_chemical(clinical_note_text):\n",
    "#     sentence = Sentence(clinical_note_text, use_tokenizer=SciSpacyTokenizer())\n",
    "#     tagger.predict(sentence)\n",
    "#     disease = [disease.text for disease in sentence.get_spans(\"hunflair-disease\")]\n",
    "#     chemical = [chemical.text for chemical in sentence.get_spans(\"hunflair-chemical\")]\n",
    "#     return disease, chemical\n",
    "def get_entities_from_clinical_note(clinical_note):\n",
    "    document = nlp_trf(clinical_note)\n",
    "    DATE_TIME = [ent.text for ent in document.ents if ent.label_ in  ['DATE','TIME']]\n",
    "    QUANTITY = [ent.text for ent in document.ents if ent.label_ in  ['QUANTITY']]\n",
    "    ORG = [ent.text for ent in document.ents if ent.label_ in  ['ORG']] \n",
    "    Person = [ent.text for ent in document.ents if ent.label_ in  ['PERSON']] \n",
    "    Location = [ent.text for ent in document.ents if ent.label_ in  ['GPE']]\n",
    "    return list(set(DATE_TIME)), list(set(QUANTITY)), list(set(ORG)), list(set(Person)), list(set(Location))"
   ]
  },
  {
   "cell_type": "code",
   "execution_count": 5,
   "metadata": {
    "ExecuteTime": {
     "end_time": "2022-01-20T10:19:59.759017Z",
     "start_time": "2022-01-20T10:11:24.596506Z"
    }
   },
   "outputs": [
    {
     "name": "stderr",
     "output_type": "stream",
     "text": [
      "100%|████████████████████████████████████████████████████████████████████████████████████████████████████████████████████████████████████| 100/100 [08:35<00:00,  5.15s/it]\n"
     ]
    },
    {
     "data": {
      "text/html": [
       "<div>\n",
       "<style scoped>\n",
       "    .dataframe tbody tr th:only-of-type {\n",
       "        vertical-align: middle;\n",
       "    }\n",
       "\n",
       "    .dataframe tbody tr th {\n",
       "        vertical-align: top;\n",
       "    }\n",
       "\n",
       "    .dataframe thead th {\n",
       "        text-align: right;\n",
       "    }\n",
       "</style>\n",
       "<table border=\"1\" class=\"dataframe\">\n",
       "  <thead>\n",
       "    <tr style=\"text-align: right;\">\n",
       "      <th></th>\n",
       "      <th>category</th>\n",
       "      <th>notes</th>\n",
       "      <th>disease</th>\n",
       "      <th>chemical</th>\n",
       "      <th>entity_tagging</th>\n",
       "    </tr>\n",
       "  </thead>\n",
       "  <tbody>\n",
       "    <tr>\n",
       "      <th>0</th>\n",
       "      <td>Cardiovascular / Pulmonary</td>\n",
       "      <td>REASON FOR CONSULTATION: , Pulmonary embolism....</td>\n",
       "      <td>[syncopal episode, shortness of breath, chest ...</td>\n",
       "      <td>[Aspirin.,2 .   Potassium.,3 .   Lasix.,4 .   ...</td>\n",
       "      <td>([night, one year ago, yesterday, the last sev...</td>\n",
       "    </tr>\n",
       "    <tr>\n",
       "      <th>1</th>\n",
       "      <td>Cardiovascular / Pulmonary</td>\n",
       "      <td>PREOPERATIVE DIAGNOSIS:,  Airway stenosis with...</td>\n",
       "      <td>[Airway stenosis, Airway stenosis, bleeding, t...</td>\n",
       "      <td>[silicon]</td>\n",
       "      <td>([two hours], [3 cm, 2.25 cm, 9 cm, 14 mm, 18 ...</td>\n",
       "    </tr>\n",
       "    <tr>\n",
       "      <th>2</th>\n",
       "      <td>Cardiovascular / Pulmonary</td>\n",
       "      <td>PROCEDURE DONE:  ,Resting Myoview and adenosin...</td>\n",
       "      <td>[dizziness, shortness of breath, arrhythmias]</td>\n",
       "      <td>[adenosine, Tc-99 m tetrofosmin, adenosine, ad...</td>\n",
       "      <td>([Two minutes, four minutes], [90 beats, 31.6 ...</td>\n",
       "    </tr>\n",
       "    <tr>\n",
       "      <th>3</th>\n",
       "      <td>Gastroenterology</td>\n",
       "      <td>PREPROCEDURE DIAGNOSIS:,  Change in bowel func...</td>\n",
       "      <td>[hematochezia, ulcerations, edema, mucosal abn...</td>\n",
       "      <td>[]</td>\n",
       "      <td>([2 weeks, a 33-year-old], [], [], [Sims], [])</td>\n",
       "    </tr>\n",
       "    <tr>\n",
       "      <th>4</th>\n",
       "      <td>Neurology</td>\n",
       "      <td>HISTORY OF PRESENT ILLNESS:  ,The patient is a...</td>\n",
       "      <td>[right arm pain, pain, dull pain, achy sensati...</td>\n",
       "      <td>[Medrol, ACTOplus, albuterol, AndroGel, Asteli...</td>\n",
       "      <td>([2006, 1984, 89, a little less than a year ag...</td>\n",
       "    </tr>\n",
       "  </tbody>\n",
       "</table>\n",
       "</div>"
      ],
      "text/plain": [
       "                     category  \\\n",
       "0  Cardiovascular / Pulmonary   \n",
       "1  Cardiovascular / Pulmonary   \n",
       "2  Cardiovascular / Pulmonary   \n",
       "3            Gastroenterology   \n",
       "4                   Neurology   \n",
       "\n",
       "                                               notes  \\\n",
       "0  REASON FOR CONSULTATION: , Pulmonary embolism....   \n",
       "1  PREOPERATIVE DIAGNOSIS:,  Airway stenosis with...   \n",
       "2  PROCEDURE DONE:  ,Resting Myoview and adenosin...   \n",
       "3  PREPROCEDURE DIAGNOSIS:,  Change in bowel func...   \n",
       "4  HISTORY OF PRESENT ILLNESS:  ,The patient is a...   \n",
       "\n",
       "                                             disease  \\\n",
       "0  [syncopal episode, shortness of breath, chest ...   \n",
       "1  [Airway stenosis, Airway stenosis, bleeding, t...   \n",
       "2      [dizziness, shortness of breath, arrhythmias]   \n",
       "3  [hematochezia, ulcerations, edema, mucosal abn...   \n",
       "4  [right arm pain, pain, dull pain, achy sensati...   \n",
       "\n",
       "                                            chemical  \\\n",
       "0  [Aspirin.,2 .   Potassium.,3 .   Lasix.,4 .   ...   \n",
       "1                                          [silicon]   \n",
       "2  [adenosine, Tc-99 m tetrofosmin, adenosine, ad...   \n",
       "3                                                 []   \n",
       "4  [Medrol, ACTOplus, albuterol, AndroGel, Asteli...   \n",
       "\n",
       "                                      entity_tagging  \n",
       "0  ([night, one year ago, yesterday, the last sev...  \n",
       "1  ([two hours], [3 cm, 2.25 cm, 9 cm, 14 mm, 18 ...  \n",
       "2  ([Two minutes, four minutes], [90 beats, 31.6 ...  \n",
       "3     ([2 weeks, a 33-year-old], [], [], [Sims], [])  \n",
       "4  ([2006, 1984, 89, a little less than a year ag...  "
      ]
     },
     "execution_count": 5,
     "metadata": {},
     "output_type": "execute_result"
    }
   ],
   "source": [
    "ClinNotes_df['entity_tagging'] = ClinNotes_df['notes'].progress_apply(get_entities_from_clinical_note)\n",
    "ClinNotes_df.head()"
   ]
  },
  {
   "cell_type": "code",
   "execution_count": 6,
   "metadata": {
    "ExecuteTime": {
     "end_time": "2022-01-20T10:19:59.790041Z",
     "start_time": "2022-01-20T10:19:59.762020Z"
    }
   },
   "outputs": [],
   "source": [
    "ClinNotes_df['DATE_TIME'] = ClinNotes_df['entity_tagging'].apply(lambda x: x[0])\n",
    "ClinNotes_df['QUANTITY'] = ClinNotes_df['entity_tagging'].apply(lambda x: x[1])\n",
    "ClinNotes_df['ORG'] = ClinNotes_df['entity_tagging'].apply(lambda x: x[2])\n",
    "ClinNotes_df['Person'] = ClinNotes_df['entity_tagging'].apply(lambda x: x[3])\n",
    "ClinNotes_df['Location'] = ClinNotes_df['entity_tagging'].apply(lambda x: x[4])\n",
    "del ClinNotes_df['entity_tagging']"
   ]
  },
  {
   "cell_type": "code",
   "execution_count": 7,
   "metadata": {
    "ExecuteTime": {
     "end_time": "2022-01-20T10:19:59.822019Z",
     "start_time": "2022-01-20T10:19:59.794021Z"
    }
   },
   "outputs": [],
   "source": [
    "ClinNotes_df['DATE_TIME'] = ClinNotes_df['DATE_TIME'].apply(lambda y: np.nan if len(y)==0 else y)\n",
    "ClinNotes_df['QUANTITY'] = ClinNotes_df['QUANTITY'].apply(lambda y: np.nan if len(y)==0 else y)\n",
    "ClinNotes_df['ORG'] = ClinNotes_df['ORG'].apply(lambda y: np.nan if len(y)==0 else y)\n",
    "ClinNotes_df['Person'] = ClinNotes_df['Person'].apply(lambda y: np.nan if len(y)==0 else y)\n",
    "ClinNotes_df['Location'] = ClinNotes_df['Location'].apply(lambda y: np.nan if len(y)==0 else y)\n",
    "ClinNotes_df['disease'] = ClinNotes_df['disease'].apply(lambda y: np.nan if len(y)==0 else y)\n",
    "ClinNotes_df['chemical'] = ClinNotes_df['chemical'].apply(lambda y: np.nan if len(y)==0 else y)"
   ]
  },
  {
   "cell_type": "code",
   "execution_count": 8,
   "metadata": {
    "ExecuteTime": {
     "end_time": "2022-01-20T10:19:59.902022Z",
     "start_time": "2022-01-20T10:19:59.830022Z"
    }
   },
   "outputs": [
    {
     "name": "stdout",
     "output_type": "stream",
     "text": [
      "(100, 9) Index(['category', 'notes', 'disease', 'chemical', 'DATE_TIME', 'QUANTITY',\n",
      "       'ORG', 'Person', 'Location'],\n",
      "      dtype='object')\n"
     ]
    },
    {
     "data": {
      "text/html": [
       "<div>\n",
       "<style scoped>\n",
       "    .dataframe tbody tr th:only-of-type {\n",
       "        vertical-align: middle;\n",
       "    }\n",
       "\n",
       "    .dataframe tbody tr th {\n",
       "        vertical-align: top;\n",
       "    }\n",
       "\n",
       "    .dataframe thead th {\n",
       "        text-align: right;\n",
       "    }\n",
       "</style>\n",
       "<table border=\"1\" class=\"dataframe\">\n",
       "  <thead>\n",
       "    <tr style=\"text-align: right;\">\n",
       "      <th></th>\n",
       "      <th>category</th>\n",
       "      <th>notes</th>\n",
       "      <th>disease</th>\n",
       "      <th>chemical</th>\n",
       "      <th>DATE_TIME</th>\n",
       "      <th>QUANTITY</th>\n",
       "      <th>ORG</th>\n",
       "      <th>Person</th>\n",
       "      <th>Location</th>\n",
       "    </tr>\n",
       "  </thead>\n",
       "  <tbody>\n",
       "    <tr>\n",
       "      <th>0</th>\n",
       "      <td>Cardiovascular / Pulmonary</td>\n",
       "      <td>REASON FOR CONSULTATION: , Pulmonary embolism....</td>\n",
       "      <td>[syncopal episode, shortness of breath, chest ...</td>\n",
       "      <td>[Aspirin.,2 .   Potassium.,3 .   Lasix.,4 .   ...</td>\n",
       "      <td>[night, one year ago, yesterday, the last seve...</td>\n",
       "      <td>[2 to 3 glasses]</td>\n",
       "      <td>NaN</td>\n",
       "      <td>NaN</td>\n",
       "      <td>NaN</td>\n",
       "    </tr>\n",
       "    <tr>\n",
       "      <th>1</th>\n",
       "      <td>Cardiovascular / Pulmonary</td>\n",
       "      <td>PREOPERATIVE DIAGNOSIS:,  Airway stenosis with...</td>\n",
       "      <td>[Airway stenosis, Airway stenosis, bleeding, t...</td>\n",
       "      <td>[silicon]</td>\n",
       "      <td>[two hours]</td>\n",
       "      <td>[3 cm, 2.25 cm, 9 cm, 14 mm, 18 mm]</td>\n",
       "      <td>NaN</td>\n",
       "      <td>[D, Donovan]</td>\n",
       "      <td>NaN</td>\n",
       "    </tr>\n",
       "    <tr>\n",
       "      <th>2</th>\n",
       "      <td>Cardiovascular / Pulmonary</td>\n",
       "      <td>PROCEDURE DONE:  ,Resting Myoview and adenosin...</td>\n",
       "      <td>[dizziness, shortness of breath, arrhythmias]</td>\n",
       "      <td>[adenosine, Tc-99 m tetrofosmin, adenosine, ad...</td>\n",
       "      <td>[Two minutes, four minutes]</td>\n",
       "      <td>[90 beats, 31.6 mCi, 38 mg, 13.3 mCi, 140 mcg,...</td>\n",
       "      <td>NaN</td>\n",
       "      <td>NaN</td>\n",
       "      <td>NaN</td>\n",
       "    </tr>\n",
       "    <tr>\n",
       "      <th>3</th>\n",
       "      <td>Gastroenterology</td>\n",
       "      <td>PREPROCEDURE DIAGNOSIS:,  Change in bowel func...</td>\n",
       "      <td>[hematochezia, ulcerations, edema, mucosal abn...</td>\n",
       "      <td>NaN</td>\n",
       "      <td>[2 weeks, a 33-year-old]</td>\n",
       "      <td>NaN</td>\n",
       "      <td>NaN</td>\n",
       "      <td>[Sims]</td>\n",
       "      <td>NaN</td>\n",
       "    </tr>\n",
       "    <tr>\n",
       "      <th>4</th>\n",
       "      <td>Neurology</td>\n",
       "      <td>HISTORY OF PRESENT ILLNESS:  ,The patient is a...</td>\n",
       "      <td>[right arm pain, pain, dull pain, achy sensati...</td>\n",
       "      <td>[Medrol, ACTOplus, albuterol, AndroGel, Asteli...</td>\n",
       "      <td>[2006, 1984, 89, a little less than a year ago...</td>\n",
       "      <td>[81 mg]</td>\n",
       "      <td>[the State of Maryland, Human Resources, Spine...</td>\n",
       "      <td>[X, Hoffman]</td>\n",
       "      <td>NaN</td>\n",
       "    </tr>\n",
       "  </tbody>\n",
       "</table>\n",
       "</div>"
      ],
      "text/plain": [
       "                     category  \\\n",
       "0  Cardiovascular / Pulmonary   \n",
       "1  Cardiovascular / Pulmonary   \n",
       "2  Cardiovascular / Pulmonary   \n",
       "3            Gastroenterology   \n",
       "4                   Neurology   \n",
       "\n",
       "                                               notes  \\\n",
       "0  REASON FOR CONSULTATION: , Pulmonary embolism....   \n",
       "1  PREOPERATIVE DIAGNOSIS:,  Airway stenosis with...   \n",
       "2  PROCEDURE DONE:  ,Resting Myoview and adenosin...   \n",
       "3  PREPROCEDURE DIAGNOSIS:,  Change in bowel func...   \n",
       "4  HISTORY OF PRESENT ILLNESS:  ,The patient is a...   \n",
       "\n",
       "                                             disease  \\\n",
       "0  [syncopal episode, shortness of breath, chest ...   \n",
       "1  [Airway stenosis, Airway stenosis, bleeding, t...   \n",
       "2      [dizziness, shortness of breath, arrhythmias]   \n",
       "3  [hematochezia, ulcerations, edema, mucosal abn...   \n",
       "4  [right arm pain, pain, dull pain, achy sensati...   \n",
       "\n",
       "                                            chemical  \\\n",
       "0  [Aspirin.,2 .   Potassium.,3 .   Lasix.,4 .   ...   \n",
       "1                                          [silicon]   \n",
       "2  [adenosine, Tc-99 m tetrofosmin, adenosine, ad...   \n",
       "3                                                NaN   \n",
       "4  [Medrol, ACTOplus, albuterol, AndroGel, Asteli...   \n",
       "\n",
       "                                           DATE_TIME  \\\n",
       "0  [night, one year ago, yesterday, the last seve...   \n",
       "1                                        [two hours]   \n",
       "2                        [Two minutes, four minutes]   \n",
       "3                           [2 weeks, a 33-year-old]   \n",
       "4  [2006, 1984, 89, a little less than a year ago...   \n",
       "\n",
       "                                            QUANTITY  \\\n",
       "0                                   [2 to 3 glasses]   \n",
       "1                [3 cm, 2.25 cm, 9 cm, 14 mm, 18 mm]   \n",
       "2  [90 beats, 31.6 mCi, 38 mg, 13.3 mCi, 140 mcg,...   \n",
       "3                                                NaN   \n",
       "4                                            [81 mg]   \n",
       "\n",
       "                                                 ORG        Person Location  \n",
       "0                                                NaN           NaN      NaN  \n",
       "1                                                NaN  [D, Donovan]      NaN  \n",
       "2                                                NaN           NaN      NaN  \n",
       "3                                                NaN        [Sims]      NaN  \n",
       "4  [the State of Maryland, Human Resources, Spine...  [X, Hoffman]      NaN  "
      ]
     },
     "execution_count": 8,
     "metadata": {},
     "output_type": "execute_result"
    }
   ],
   "source": [
    "print(ClinNotes_df.shape, ClinNotes_df.columns)\n",
    "ClinNotes_df.head()"
   ]
  },
  {
   "cell_type": "code",
   "execution_count": 10,
   "metadata": {
    "ExecuteTime": {
     "end_time": "2022-01-20T10:20:44.214023Z",
     "start_time": "2022-01-20T10:20:44.192019Z"
    }
   },
   "outputs": [],
   "source": [
    "ClinNotes_df.to_pickle('ClinNotes_entity_phase2_df')"
   ]
  },
  {
   "cell_type": "code",
   "execution_count": null,
   "metadata": {},
   "outputs": [],
   "source": []
  }
 ],
 "metadata": {
  "kernelspec": {
   "display_name": "transformers_dl",
   "language": "python",
   "name": "transformers_dl"
  },
  "language_info": {
   "codemirror_mode": {
    "name": "ipython",
    "version": 3
   },
   "file_extension": ".py",
   "mimetype": "text/x-python",
   "name": "python",
   "nbconvert_exporter": "python",
   "pygments_lexer": "ipython3",
   "version": "3.7.10"
  }
 },
 "nbformat": 4,
 "nbformat_minor": 4
}
