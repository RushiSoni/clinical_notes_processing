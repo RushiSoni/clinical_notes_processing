{
 "cells": [
  {
   "cell_type": "code",
   "execution_count": 1,
   "metadata": {
    "ExecuteTime": {
     "end_time": "2022-01-20T07:36:20.232520Z",
     "start_time": "2022-01-20T07:36:18.579520Z"
    }
   },
   "outputs": [
    {
     "name": "stderr",
     "output_type": "stream",
     "text": [
      "C:\\Users\\Rushi.Soni\\AppData\\Local\\Continuum\\anaconda3\\envs\\ocr_mds_expense\\lib\\site-packages\\tqdm\\std.py:668: FutureWarning: The Panel class is removed from pandas. Accessing it from the top-level namespace will also be removed in the next version\n",
      "  from pandas import Panel\n"
     ]
    }
   ],
   "source": [
    "import pandas as pd\n",
    "import numpy as np\n",
    "import os\n",
    "os.chdir(r'../data')\n",
    "from tqdm import tqdm\n",
    "tqdm.pandas()\n",
    "import warnings\n",
    "warnings.filterwarnings('ignore')\n",
    "def function_that_warns():\n",
    "    warnings.warn(\"deprecated\", DeprecationWarning)\n",
    "\n",
    "with warnings.catch_warnings():\n",
    "    warnings.simplefilter(\"ignore\")\n",
    "    function_that_warns()  # this will not show a warning"
   ]
  },
  {
   "cell_type": "code",
   "execution_count": 2,
   "metadata": {
    "ExecuteTime": {
     "end_time": "2022-01-20T07:37:23.350522Z",
     "start_time": "2022-01-20T07:36:20.237521Z"
    },
    "scrolled": false
   },
   "outputs": [
    {
     "name": "stdout",
     "output_type": "stream",
     "text": [
      "2022-01-20 13:06:28,069 loading file C:\\Users\\Rushi.Soni\\.flair\\models\\hunflair-celline-v1.0.pt\n",
      "2022-01-20 13:06:37,870 loading file C:\\Users\\Rushi.Soni\\.flair\\models\\hunflair-chemical-full-v1.0.pt\n",
      "2022-01-20 13:06:48,392 loading file C:\\Users\\Rushi.Soni\\.flair\\models\\hunflair-disease-full-v1.0.pt\n",
      "2022-01-20 13:06:59,355 loading file C:\\Users\\Rushi.Soni\\.flair\\models\\hunflair-gene-full-v1.0.pt\n",
      "2022-01-20 13:07:11,576 loading file C:\\Users\\Rushi.Soni\\.flair\\models\\hunflair-species-full-v1.1.pt\n"
     ]
    }
   ],
   "source": [
    "from flair.data import Sentence\n",
    "from flair.models import MultiTagger\n",
    "from flair.tokenization import SciSpacyTokenizer\n",
    "# load biomedical tagger\n",
    "tagger = MultiTagger.load(\"hunflair\")"
   ]
  },
  {
   "cell_type": "code",
   "execution_count": 3,
   "metadata": {
    "ExecuteTime": {
     "end_time": "2022-01-20T07:37:23.445520Z",
     "start_time": "2022-01-20T07:37:23.355519Z"
    }
   },
   "outputs": [
    {
     "name": "stdout",
     "output_type": "stream",
     "text": [
      "Index(['category', 'notes'], dtype='object') (818, 2)\n"
     ]
    }
   ],
   "source": [
    "ClinNotes_df = pd.read_csv('ClinNotes.csv')\n",
    "print(ClinNotes_df.columns, ClinNotes_df.shape)"
   ]
  },
  {
   "cell_type": "code",
   "execution_count": 4,
   "metadata": {
    "ExecuteTime": {
     "end_time": "2022-01-20T07:37:23.460520Z",
     "start_time": "2022-01-20T07:37:23.451521Z"
    }
   },
   "outputs": [],
   "source": [
    "def get_disease_chemical(clinical_note_text):\n",
    "    sentence = Sentence(clinical_note_text, use_tokenizer=SciSpacyTokenizer())\n",
    "    tagger.predict(sentence)\n",
    "    disease = [disease.text for disease in sentence.get_spans(\"hunflair-disease\")]\n",
    "    chemical = [chemical.text for chemical in sentence.get_spans(\"hunflair-chemical\")]\n",
    "    return disease, chemical"
   ]
  },
  {
   "cell_type": "code",
   "execution_count": 5,
   "metadata": {
    "ExecuteTime": {
     "end_time": "2022-01-20T08:44:15.098738Z",
     "start_time": "2022-01-20T07:37:23.464523Z"
    }
   },
   "outputs": [
    {
     "name": "stderr",
     "output_type": "stream",
     "text": [
      "100%|██████████████████████████████████████████████████████████████████████████████████████████████████████████████████████████████████| 100/100 [1:06:51<00:00, 40.12s/it]\n"
     ]
    },
    {
     "data": {
      "text/html": [
       "<div>\n",
       "<style scoped>\n",
       "    .dataframe tbody tr th:only-of-type {\n",
       "        vertical-align: middle;\n",
       "    }\n",
       "\n",
       "    .dataframe tbody tr th {\n",
       "        vertical-align: top;\n",
       "    }\n",
       "\n",
       "    .dataframe thead th {\n",
       "        text-align: right;\n",
       "    }\n",
       "</style>\n",
       "<table border=\"1\" class=\"dataframe\">\n",
       "  <thead>\n",
       "    <tr style=\"text-align: right;\">\n",
       "      <th></th>\n",
       "      <th>category</th>\n",
       "      <th>notes</th>\n",
       "      <th>entity_tagging</th>\n",
       "    </tr>\n",
       "  </thead>\n",
       "  <tbody>\n",
       "    <tr>\n",
       "      <th>0</th>\n",
       "      <td>Cardiovascular / Pulmonary</td>\n",
       "      <td>REASON FOR CONSULTATION: , Pulmonary embolism....</td>\n",
       "      <td>([syncopal episode, shortness of breath, chest...</td>\n",
       "    </tr>\n",
       "    <tr>\n",
       "      <th>1</th>\n",
       "      <td>Cardiovascular / Pulmonary</td>\n",
       "      <td>PREOPERATIVE DIAGNOSIS:,  Airway stenosis with...</td>\n",
       "      <td>([Airway stenosis, Airway stenosis, bleeding, ...</td>\n",
       "    </tr>\n",
       "    <tr>\n",
       "      <th>2</th>\n",
       "      <td>Cardiovascular / Pulmonary</td>\n",
       "      <td>PROCEDURE DONE:  ,Resting Myoview and adenosin...</td>\n",
       "      <td>([dizziness, shortness of breath, arrhythmias]...</td>\n",
       "    </tr>\n",
       "    <tr>\n",
       "      <th>3</th>\n",
       "      <td>Gastroenterology</td>\n",
       "      <td>PREPROCEDURE DIAGNOSIS:,  Change in bowel func...</td>\n",
       "      <td>([hematochezia, ulcerations, edema, mucosal ab...</td>\n",
       "    </tr>\n",
       "    <tr>\n",
       "      <th>4</th>\n",
       "      <td>Neurology</td>\n",
       "      <td>HISTORY OF PRESENT ILLNESS:  ,The patient is a...</td>\n",
       "      <td>([right arm pain, pain, dull pain, achy sensat...</td>\n",
       "    </tr>\n",
       "  </tbody>\n",
       "</table>\n",
       "</div>"
      ],
      "text/plain": [
       "                     category  \\\n",
       "0  Cardiovascular / Pulmonary   \n",
       "1  Cardiovascular / Pulmonary   \n",
       "2  Cardiovascular / Pulmonary   \n",
       "3            Gastroenterology   \n",
       "4                   Neurology   \n",
       "\n",
       "                                               notes  \\\n",
       "0  REASON FOR CONSULTATION: , Pulmonary embolism....   \n",
       "1  PREOPERATIVE DIAGNOSIS:,  Airway stenosis with...   \n",
       "2  PROCEDURE DONE:  ,Resting Myoview and adenosin...   \n",
       "3  PREPROCEDURE DIAGNOSIS:,  Change in bowel func...   \n",
       "4  HISTORY OF PRESENT ILLNESS:  ,The patient is a...   \n",
       "\n",
       "                                      entity_tagging  \n",
       "0  ([syncopal episode, shortness of breath, chest...  \n",
       "1  ([Airway stenosis, Airway stenosis, bleeding, ...  \n",
       "2  ([dizziness, shortness of breath, arrhythmias]...  \n",
       "3  ([hematochezia, ulcerations, edema, mucosal ab...  \n",
       "4  ([right arm pain, pain, dull pain, achy sensat...  "
      ]
     },
     "execution_count": 5,
     "metadata": {},
     "output_type": "execute_result"
    }
   ],
   "source": [
    "ClinNotes_df= ClinNotes_df.sample(100).reset_index(drop=True)\n",
    "ClinNotes_df['entity_tagging'] = ClinNotes_df['notes'].progress_apply(get_disease_chemical)\n",
    "ClinNotes_df.head()"
   ]
  },
  {
   "cell_type": "code",
   "execution_count": 6,
   "metadata": {
    "ExecuteTime": {
     "end_time": "2022-01-20T08:44:15.130735Z",
     "start_time": "2022-01-20T08:44:15.102736Z"
    }
   },
   "outputs": [],
   "source": [
    "ClinNotes_df['disease'] = ClinNotes_df['entity_tagging'].apply(lambda x: x[0])\n",
    "ClinNotes_df['chemical'] = ClinNotes_df['entity_tagging'].apply(lambda x: x[1])\n",
    "del ClinNotes_df['entity_tagging']"
   ]
  },
  {
   "cell_type": "code",
   "execution_count": 7,
   "metadata": {
    "ExecuteTime": {
     "end_time": "2022-01-20T08:44:15.146738Z",
     "start_time": "2022-01-20T08:44:15.133738Z"
    }
   },
   "outputs": [
    {
     "name": "stdout",
     "output_type": "stream",
     "text": [
      "(100, 4) Index(['category', 'notes', 'disease', 'chemical'], dtype='object')\n"
     ]
    }
   ],
   "source": [
    "print(ClinNotes_df.shape, ClinNotes_df.columns)"
   ]
  },
  {
   "cell_type": "code",
   "execution_count": 8,
   "metadata": {
    "ExecuteTime": {
     "end_time": "2022-01-20T08:44:15.193732Z",
     "start_time": "2022-01-20T08:44:15.150739Z"
    }
   },
   "outputs": [
    {
     "data": {
      "text/html": [
       "<div>\n",
       "<style scoped>\n",
       "    .dataframe tbody tr th:only-of-type {\n",
       "        vertical-align: middle;\n",
       "    }\n",
       "\n",
       "    .dataframe tbody tr th {\n",
       "        vertical-align: top;\n",
       "    }\n",
       "\n",
       "    .dataframe thead th {\n",
       "        text-align: right;\n",
       "    }\n",
       "</style>\n",
       "<table border=\"1\" class=\"dataframe\">\n",
       "  <thead>\n",
       "    <tr style=\"text-align: right;\">\n",
       "      <th></th>\n",
       "      <th>category</th>\n",
       "      <th>notes</th>\n",
       "      <th>disease</th>\n",
       "      <th>chemical</th>\n",
       "    </tr>\n",
       "  </thead>\n",
       "  <tbody>\n",
       "    <tr>\n",
       "      <th>0</th>\n",
       "      <td>Cardiovascular / Pulmonary</td>\n",
       "      <td>REASON FOR CONSULTATION: , Pulmonary embolism....</td>\n",
       "      <td>[syncopal episode, shortness of breath, chest ...</td>\n",
       "      <td>[Aspirin.,2 .   Potassium.,3 .   Lasix.,4 .   ...</td>\n",
       "    </tr>\n",
       "    <tr>\n",
       "      <th>1</th>\n",
       "      <td>Cardiovascular / Pulmonary</td>\n",
       "      <td>PREOPERATIVE DIAGNOSIS:,  Airway stenosis with...</td>\n",
       "      <td>[Airway stenosis, Airway stenosis, bleeding, t...</td>\n",
       "      <td>[silicon]</td>\n",
       "    </tr>\n",
       "    <tr>\n",
       "      <th>2</th>\n",
       "      <td>Cardiovascular / Pulmonary</td>\n",
       "      <td>PROCEDURE DONE:  ,Resting Myoview and adenosin...</td>\n",
       "      <td>[dizziness, shortness of breath, arrhythmias]</td>\n",
       "      <td>[adenosine, Tc-99 m tetrofosmin, adenosine, ad...</td>\n",
       "    </tr>\n",
       "    <tr>\n",
       "      <th>3</th>\n",
       "      <td>Gastroenterology</td>\n",
       "      <td>PREPROCEDURE DIAGNOSIS:,  Change in bowel func...</td>\n",
       "      <td>[hematochezia, ulcerations, edema, mucosal abn...</td>\n",
       "      <td>[]</td>\n",
       "    </tr>\n",
       "    <tr>\n",
       "      <th>4</th>\n",
       "      <td>Neurology</td>\n",
       "      <td>HISTORY OF PRESENT ILLNESS:  ,The patient is a...</td>\n",
       "      <td>[right arm pain, pain, dull pain, achy sensati...</td>\n",
       "      <td>[Medrol, ACTOplus, albuterol, AndroGel, Asteli...</td>\n",
       "    </tr>\n",
       "  </tbody>\n",
       "</table>\n",
       "</div>"
      ],
      "text/plain": [
       "                     category  \\\n",
       "0  Cardiovascular / Pulmonary   \n",
       "1  Cardiovascular / Pulmonary   \n",
       "2  Cardiovascular / Pulmonary   \n",
       "3            Gastroenterology   \n",
       "4                   Neurology   \n",
       "\n",
       "                                               notes  \\\n",
       "0  REASON FOR CONSULTATION: , Pulmonary embolism....   \n",
       "1  PREOPERATIVE DIAGNOSIS:,  Airway stenosis with...   \n",
       "2  PROCEDURE DONE:  ,Resting Myoview and adenosin...   \n",
       "3  PREPROCEDURE DIAGNOSIS:,  Change in bowel func...   \n",
       "4  HISTORY OF PRESENT ILLNESS:  ,The patient is a...   \n",
       "\n",
       "                                             disease  \\\n",
       "0  [syncopal episode, shortness of breath, chest ...   \n",
       "1  [Airway stenosis, Airway stenosis, bleeding, t...   \n",
       "2      [dizziness, shortness of breath, arrhythmias]   \n",
       "3  [hematochezia, ulcerations, edema, mucosal abn...   \n",
       "4  [right arm pain, pain, dull pain, achy sensati...   \n",
       "\n",
       "                                            chemical  \n",
       "0  [Aspirin.,2 .   Potassium.,3 .   Lasix.,4 .   ...  \n",
       "1                                          [silicon]  \n",
       "2  [adenosine, Tc-99 m tetrofosmin, adenosine, ad...  \n",
       "3                                                 []  \n",
       "4  [Medrol, ACTOplus, albuterol, AndroGel, Asteli...  "
      ]
     },
     "execution_count": 8,
     "metadata": {},
     "output_type": "execute_result"
    }
   ],
   "source": [
    "ClinNotes_df.head()"
   ]
  },
  {
   "cell_type": "code",
   "execution_count": 9,
   "metadata": {
    "ExecuteTime": {
     "end_time": "2022-01-20T08:44:15.223736Z",
     "start_time": "2022-01-20T08:44:15.196736Z"
    }
   },
   "outputs": [],
   "source": [
    "ClinNotes_df.to_pickle('ClinNotes_entity_df')"
   ]
  }
 ],
 "metadata": {
  "kernelspec": {
   "display_name": "Python(ocr_mds_expense)",
   "language": "python",
   "name": "ocr_mds_expense"
  },
  "language_info": {
   "codemirror_mode": {
    "name": "ipython",
    "version": 3
   },
   "file_extension": ".py",
   "mimetype": "text/x-python",
   "name": "python",
   "nbconvert_exporter": "python",
   "pygments_lexer": "ipython3",
   "version": "3.7.10"
  }
 },
 "nbformat": 4,
 "nbformat_minor": 4
}
